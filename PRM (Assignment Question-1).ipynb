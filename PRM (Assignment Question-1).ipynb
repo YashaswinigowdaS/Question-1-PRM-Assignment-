{
 "cells": [
  {
   "cell_type": "markdown",
   "id": "d8f31bb4",
   "metadata": {},
   "source": [
    "# You will have a number of elements and in the next n lines element of a list. You have to create a list from the given strings. You have to sort the list based on 2nd last character of a string\n",
    "\n",
    "\n",
    "\n",
    "For example: Given list = ['great','hello','hiyo','abc'] So your output_dictionary should be ['great','abc','hello','hiyo']\n",
    "\n"
   ]
  },
  {
   "cell_type": "code",
   "execution_count": 1,
   "id": "684a96ce",
   "metadata": {},
   "outputs": [
    {
     "name": "stdout",
     "output_type": "stream",
     "text": [
      "Enter the size of the list : 2\n",
      "Enter the words : Alice\n",
      "Enter the words : Anil\n",
      "['Alice', 'Anil']\n"
     ]
    }
   ],
   "source": [
    "size = int(input(\"Enter the size of the list : \")) # number of elements in the list\n",
    "lst = [input(\"Enter the words : \") for _ in range(size)] # create the list\n",
    "lst.sort(key = lambda x: x[-2] if len(x) >1 else x) # sort the list based on 2nd last character of each string\n",
    "print(lst)"
   ]
  },
  {
   "cell_type": "code",
   "execution_count": null,
   "id": "26541737",
   "metadata": {},
   "outputs": [],
   "source": []
  }
 ],
 "metadata": {
  "kernelspec": {
   "display_name": "Python 3 (ipykernel)",
   "language": "python",
   "name": "python3"
  },
  "language_info": {
   "codemirror_mode": {
    "name": "ipython",
    "version": 3
   },
   "file_extension": ".py",
   "mimetype": "text/x-python",
   "name": "python",
   "nbconvert_exporter": "python",
   "pygments_lexer": "ipython3",
   "version": "3.11.0"
  }
 },
 "nbformat": 4,
 "nbformat_minor": 5
}
